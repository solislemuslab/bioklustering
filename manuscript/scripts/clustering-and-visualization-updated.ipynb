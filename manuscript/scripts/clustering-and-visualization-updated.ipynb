{
 "cells": [
  {
   "cell_type": "code",
   "execution_count": 1,
   "metadata": {},
   "outputs": [],
   "source": [
    "import numpy as np\n",
    "import pandas as pd\n",
    "from Bio import SeqIO\n",
    "from Bio.SeqRecord import SeqRecord\n",
    "import matplotlib.pyplot as plt\n",
    "from sklearn import cluster, datasets, mixture\n",
    "from sklearn.neighbors import kneighbors_graph\n",
    "from sklearn.feature_extraction.text import CountVectorizer\n",
    "from sklearn import cluster, datasets, mixture\n",
    "from sklearn.neighbors import kneighbors_graph\n",
    "from sklearn.cluster import SpectralClustering\n",
    "from sklearn.decomposition import PCA\n",
    "from sklearn import preprocessing"
   ]
  },
  {
   "cell_type": "code",
   "execution_count": 2,
   "metadata": {},
   "outputs": [],
   "source": [
    "import warnings\n",
    "warnings.filterwarnings('ignore')"
   ]
  },
  {
   "cell_type": "code",
   "execution_count": 3,
   "metadata": {},
   "outputs": [],
   "source": [
    "### \n",
    "### This includes code copied and pasted from the main methods used for the website in BioKlustering-Website/BioKlustering/mlmodel/parser/spectralClustering.py\n",
    "### These methods are copy-pasted instead of directly included due to difficulties importing Django classes for running locally without running the server\n",
    "###\n",
    "\n",
    "# parseFasta(data) credit to Luke\n",
    "def parseFasta(data):\n",
    "    d = {fasta.id : str(fasta.seq) for fasta in SeqIO.parse(data, \"fasta\")}\n",
    "    pd.DataFrame([d])\n",
    "    s = pd.Series(d, name='Sequence')\n",
    "    s.index.name = 'ID'\n",
    "    s.reset_index()\n",
    "    return pd.DataFrame(s)\n",
    "\n",
    "# this method credit to Zhiwen\n",
    "def get_kmer_table(paths,k_min,k_max):\n",
    "    genes,gene_len,output_df = read_fasta(paths)\n",
    "    count_vect = CountVectorizer(analyzer='char', ngram_range=(k_min, k_max))\n",
    "    X = count_vect.fit_transform(genes)\n",
    "    chars = count_vect.get_feature_names()\n",
    "    kmers = X.toarray()\n",
    "    kmer_freq = []\n",
    "    for i in range(len(genes)):\n",
    "        kmer_freq.append(kmers[i] / gene_len[i])\n",
    "    input = pd.DataFrame(kmer_freq, columns=chars)\n",
    "    return input, output_df\n",
    "\n",
    "# this method credit to Zhiwen\n",
    "def get_gene_sequences(filename):\n",
    "    genes = []\n",
    "    for record in SeqIO.parse(filename, \"fasta\"):\n",
    "        genes.append(str(record.seq))\n",
    "    return genes\n",
    "\n",
    "# this method credit to Zhiwen\n",
    "# genes: a list of gene sequences, which can directly be generated from get_gene_sequences().\n",
    "def get_gene_len(genes):\n",
    "    gene_len = []\n",
    "\n",
    "    for i in range(len(genes)):\n",
    "        gene_len.append(len(genes[i]))\n",
    "    return gene_len\n",
    "\n",
    "# this method credit to Zhiwen\n",
    "def read_fasta(paths):\n",
    "    all_genes = []\n",
    "    all_gene_len = []\n",
    "    output_df = pd.DataFrame()\n",
    "    \n",
    "    for path in paths:\n",
    "        virus = parseFasta(path)\n",
    "        output_df = pd.concat([output_df, virus])\n",
    "        virus = virus.drop_duplicates(keep=\"last\")\n",
    "        genes_seq = get_gene_sequences(path)\n",
    "        gene_len = get_gene_len(genes_seq)\n",
    "        all_genes = all_genes + genes_seq\n",
    "        all_gene_len = all_gene_len + gene_len\n",
    "    return all_genes,all_gene_len,output_df\n",
    "\n",
    "# this method takes predits the input and make prediction using spectral clustering\n",
    "# paths: a list of strings. contains file paths\n",
    "# k_min: int. min of kmer\n",
    "# k_max: int. max of kmer\n",
    "# num_cluster: int. number of clusters\n",
    "# assignLabels: a string. the way to assign label at the final stage of spectral clustering. Can be \"kmeans\" or \"discretize\"\n",
    "def spectral_clustering(num_cluster, assignLabels, paths, k_min = 2, k_max = 3, seed = 0):\n",
    "    kmer_table, output_df = get_kmer_table(paths, k_min, k_max)\n",
    "    # if len(kmer_table) < num_cluster:\n",
    "    #     raise ValueError()\n",
    "    spectral_clustering = SpectralClustering(n_clusters=num_cluster, assign_labels=assignLabels, random_state=0)\n",
    "    labels = spectral_clustering.fit_predict(kmer_table)\n",
    "    output_df.insert(0, \"Labels\", labels)\n",
    "    return labels,output_df\n",
    "# this method takes prints the spectral clustering result by using PCA\n",
    "# paths: a list of strings. contains file paths\n",
    "# k_min: int. min of kmer\n",
    "# k_max: int. max of kmer\n",
    "# num_cluster: int. number of clusters\n",
    "# assignLabels: a string. the way to assign label at the final stage of spectral clustering. Can be \"kmeans\" or \"discretize\"\n",
    "def PCA_show_spectural_clustering(num_cluster, assignLabels, paths, filename, k_min=2, k_max=3, seed=0):\n",
    "    kmer_table,output_df = get_kmer_table(paths, k_min, k_max);\n",
    "    prediction = SpectralClustering(n_clusters=num_cluster, assign_labels=assignLabels, random_state=seed).fit_predict(\n",
    "        kmer_table)\n",
    "    pca = PCA(n_components=2)\n",
    "    pca_result = pca.fit_transform(kmer_table)\n",
    "    d = {'dimension1': pca_result[:, 0], 'dimension2': pca_result[:, 1], 'label': prediction}\n",
    "    df = pd.DataFrame(d)\n",
    "    for i in range(num_cluster):\n",
    "        label = df.loc[df['label'] == i]\n",
    "        color = 'C' + str(i)\n",
    "        plt.scatter(label['dimension1'].tolist(), label['dimension2'].tolist(), c=color)\n",
    "    plt.xlabel('principal component 1')\n",
    "    plt.ylabel('principal component 2')\n",
    "    plt.title('Unsupervised Spectral clustring with ' + assignLabels + ' assign label method')\n",
    "    df.to_csv('spectral/' + filename + \"_PCA.csv\")\n",
    "\n",
    "# NOTE: do we also want to show users the optimal k_min and k_max for users here?\n",
    "def intuitive_semi_supervised(num_cluster, file_path, label_path, assignLabels = \"none\", k_min=2, k_max=3, seed=699):\n",
    "    labels = pd.read_csv(label_path)\n",
    "    label_list = labels[\"Labels\"].to_list()\n",
    "    unique_given_labels = get_unique_numbers(label_list)\n",
    "    if num_cluster < len(unique_given_labels) - 1 and -1 in unique_given_labels:\n",
    "        num_cluster = len(unique_given_labels) - 1\n",
    "    if num_cluster < len(unique_given_labels) and -1 not in unique_given_labels:\n",
    "        num_cluster = len(unique_given_labels)\n",
    "    total_len = len(label_list)\n",
    "    print(total_len)\n",
    "    unknown_label = -1\n",
    "    total_labeled = 0\n",
    "    optimal_accuracy = 0\n",
    "    optimal_k_min = 0\n",
    "    optimal_k_max = 0\n",
    "    for i in label_list:\n",
    "        if label_list[i] != unknown_label:\n",
    "            total_labeled = total_labeled + 1\n",
    "    res = [0] * total_len\n",
    "    \n",
    "    if (assignLabels == \"none\"):\n",
    "        \n",
    "        for i in range(k_min, k_max + 1):\n",
    "            for j in range(i, k_max + 1):\n",
    "                temp_k_min = i\n",
    "                temp_k_max = j\n",
    "                kmer_table,output_df = get_kmer_table(file_path, temp_k_min, temp_k_max)\n",
    "                spectral_clustering = SpectralClustering(n_clusters=num_cluster, assign_labels=\"kmeans\",\n",
    "                                                     random_state=seed)\n",
    "                labels = spectral_clustering.fit_predict(kmer_table)\n",
    "                correct_count = 0\n",
    "                temp_accuracy = 0\n",
    "                for k in range(len(label_list)):\n",
    "                    if (label_list[k] != unknown_label):\n",
    "                        if (label_list[k] == labels[k]):\n",
    "                            correct_count += 1\n",
    "                temp_accuracy = correct_count / total_labeled\n",
    "                if (temp_accuracy > optimal_accuracy):\n",
    "                    optimal_accuracy = temp_accuracy\n",
    "                    optimal_k_min = i\n",
    "                    optimal_k_max = j\n",
    "                    res = labels\n",
    "                \n",
    "        for i in range(k_min, k_max + 1):\n",
    "            for j in range(i, k_max + 1):\n",
    "                temp_k_min = i\n",
    "                temp_k_max = j\n",
    "                kmer_table,output_df = get_kmer_table(file_path, temp_k_min, temp_k_max)\n",
    "                spectral_clustering = SpectralClustering(n_clusters=num_cluster, assign_labels=\"discretize\",\n",
    "                                                     random_state=seed)\n",
    "                labels = spectral_clustering.fit_predict(kmer_table)\n",
    "                correct_count = 0\n",
    "                temp_accuracy = 0\n",
    "                for k in range(len(label_list)):\n",
    "                    if (label_list[k] != unknown_label):\n",
    "                        if (label_list[k] == labels[k]):\n",
    "                            correct_count += 1\n",
    "                temp_accuracy = correct_count / total_labeled\n",
    "                if (temp_accuracy > optimal_accuracy):\n",
    "                    optimal_accuracy = temp_accuracy\n",
    "                    optimal_k_min = i\n",
    "                    optimal_k_max = j\n",
    "                    res = labels\n",
    "    else:\n",
    "        for i in range(k_min, k_max + 1):\n",
    "            for j in range(i, k_max + 1):\n",
    "                temp_k_min = i\n",
    "                temp_k_max = j\n",
    "                kmer_table,output_df = get_kmer_table(file_path, temp_k_min, temp_k_max)\n",
    "                spectral_clustering = SpectralClustering(n_clusters=num_cluster, assign_labels=assignLabels,\n",
    "                                                     random_state=seed)\n",
    "                labels = spectral_clustering.fit_predict(kmer_table)\n",
    "                correct_count = 0\n",
    "                temp_accuracy = 0\n",
    "                for k in range(len(label_list)):\n",
    "                    if (label_list[k] != unknown_label):\n",
    "                        if (label_list[k] == labels[k]):\n",
    "                            correct_count += 1\n",
    "                temp_accuracy = correct_count / total_labeled\n",
    "                if (temp_accuracy > optimal_accuracy):\n",
    "                    optimal_accuracy = temp_accuracy\n",
    "                    optimal_k_min = i\n",
    "                    optimal_k_max = j\n",
    "                    res = labels\n",
    "        print(\"The optimal accuracy based on labeled sequences is: \" + str(optimal_accuracy))\n",
    "        print(\"The optimal k_min is: \" + str(optimal_k_min))\n",
    "        print(\"The optimal k_max is: \" + str(optimal_k_max))\n",
    "\n",
    "        res = np.array(res)\n",
    "\n",
    "    labels = pd.read_csv(label_path)\n",
    "    inputlabels = labels[\"Labels\"].to_list()\n",
    "\n",
    "    # Get the counts for the given labels and the predicted labels\n",
    "    given_labels_count = {}\n",
    "    labels_list = list(inputlabels)\n",
    "    for label in unique_given_labels:\n",
    "        given_labels_count[label] = labels_list.count(label)\n",
    "    unique_predicted_labels = get_unique_numbers(res)\n",
    "    predicted_labels_count = {}\n",
    "    for label in unique_predicted_labels:\n",
    "        predicted_labels_count[label] = (res == label).sum()\n",
    "    max_item = max(predicted_labels_count, key=predicted_labels_count.get)\n",
    "    if -1 in given_labels_count.keys():\n",
    "        del given_labels_count[-1]\n",
    "    given_labels_count = sorted(given_labels_count.items(), key=lambda x: x[1], reverse=True)\n",
    "    predicted_labels_count = sorted(predicted_labels_count.items(), key=lambda x: x[1], reverse=True)\n",
    "\n",
    "    # Map the predicted labels to the given/actual labels\n",
    "    map_predict_to_actual = {}\n",
    "    max_value = max(unique_given_labels) + 1\n",
    "    for i in range(len(predicted_labels_count)):\n",
    "        if i < len(given_labels_count):\n",
    "            map_predict_to_actual[predicted_labels_count[i][0]] = given_labels_count[i][0]\n",
    "        else:\n",
    "            print(f\"{predicted_labels_count[i][0]} mapped to {max_value}\")\n",
    "            map_predict_to_actual[predicted_labels_count[i][0]] = max_value\n",
    "            max_value += 1\n",
    "\n",
    "    # predictions_final contains the final results\n",
    "    # it takes care of the case when num_class > number of unique labels given\n",
    "    predictions_final = []\n",
    "    for i in range(len(res)):\n",
    "        if inputlabels[i] == -1:\n",
    "            if res[i] in map_predict_to_actual.keys():\n",
    "                predictions_final.append(map_predict_to_actual[res[i]])\n",
    "            else:\n",
    "                predictions_final.append(map_predict_to_actual[max_item])\n",
    "        else:\n",
    "            predictions_final.append(inputlabels[i])\n",
    "    res = np.array(predictions_final)\n",
    "\n",
    "    \n",
    "    return res\n",
    "def PCA_show_semi_spectural_clustering(num_cluster, file_path, label_path, filename, assignLabels = \"none\", k_min=2, k_max=3, seed=699):\n",
    "    prediction = intuitive_semi_supervised(num_cluster,  file_path, label_path, assignLabels, k_min, k_max, seed)\n",
    "    pca = PCA(n_components=2)\n",
    "    pca_result = pca.fit_transform(kmer_table)\n",
    "    d = {'dimension1': pca_result[:, 0], 'dimension2': pca_result[:, 1], 'label': prediction}\n",
    "    df = pd.DataFrame(d)\n",
    "    for i in range(num_cluster):\n",
    "        label = df.loc[df['label'] == i]\n",
    "        color = 'C' + str(i)\n",
    "        plt.scatter(label['dimension1'].tolist(), label['dimension2'].tolist(), c=color)\n",
    "    plt.xlabel('principal component 1')\n",
    "    plt.ylabel('principal component 2')\n",
    "    plt.title('Semi-supervised Spectral clustring with ' + assignLabels + ' assign label method')\n",
    "    df.to_csv('spectral/' + filename + \"_PCA.csv\")\n",
    "\n",
    "def get_unique_numbers(numbers):\n",
    "\n",
    "    list_of_unique_numbers = []\n",
    "\n",
    "    unique_numbers = set(numbers)\n",
    "\n",
    "    for number in unique_numbers:\n",
    "        list_of_unique_numbers.append(number)\n",
    "\n",
    "    return list_of_unique_numbers"
   ]
  },
  {
   "cell_type": "code",
   "execution_count": 4,
   "metadata": {},
   "outputs": [
    {
     "name": "stdout",
     "output_type": "stream",
     "text": [
      "178\n",
      "The optimal accuracy based on labeled sequences is: 1.0\n",
      "The optimal k_min is: 2\n",
      "The optimal k_max is: 2\n",
      "1 mapped to 1\n",
      "178\n",
      "The optimal accuracy based on labeled sequences is: 1.0\n",
      "The optimal k_min is: 2\n",
      "The optimal k_max is: 2\n",
      "1 mapped to 1\n"
     ]
    },
    {
     "data": {
      "image/png": "[encoded data removed]",
      "text/plain": [
       "<Figure size 432x288 with 1 Axes>"
      ]
     },
     "metadata": {
      "needs_background": "light"
     },
     "output_type": "display_data"
    }
   ],
   "source": [
    "new_paths = [\"combined_Bat_Cat_flu.fa\"]\n",
    "k_min = 2\n",
    "k_max = 6\n",
    "num_class = 2\n",
    "kmer_table,output_df = get_kmer_table(new_paths, k_min, k_max)\n",
    "result = intuitive_semi_supervised(num_class,new_paths,\"labels_ten_percent_only0s.csv\",\"discretize\",k_min,k_max)\n",
    "PCA_show_semi_spectural_clustering(num_class,new_paths,\"labels_ten_percent_only0s.csv\",\"ten_percent_only0s\",\"discretize\",k_min,k_max)"
   ]
  },
  {
   "cell_type": "code",
   "execution_count": 5,
   "metadata": {},
   "outputs": [
    {
     "name": "stdout",
     "output_type": "stream",
     "text": [
      "The 10 percent only 0s accuracy based on all true label is: 0.702247191011236 for ten percent only 0 labeled dataset.\n"
     ]
    }
   ],
   "source": [
    "bat_len = len(get_gene_sequences(\"bat_flu.fa\"))\n",
    "\n",
    "cat_len = len(get_gene_sequences(\"cat_flu.fa\"))\n",
    "\n",
    "zeros = [0]*bat_len\n",
    "labels1 = np.append(zeros, [1]*cat_len, axis=None)\n",
    "temp_accuracy = 1 - sum(abs(labels1 - result))/(bat_len+cat_len)\n",
    "print(\"The 10 percent only 0s accuracy based on all true label is: \" + str(temp_accuracy) + \" for ten percent only 0 labeled dataset.\")\n",
    "\n",
    "df = pd.DataFrame(labels1)\n",
    "df.to_csv('spectral/labels_PCA.csv')"
   ]
  },
  {
   "cell_type": "code",
   "execution_count": 6,
   "metadata": {},
   "outputs": [
    {
     "name": "stdout",
     "output_type": "stream",
     "text": [
      "178\n",
      "The optimal accuracy based on labeled sequences is: 0.7647058823529411\n",
      "The optimal k_min is: 3\n",
      "The optimal k_max is: 3\n",
      "178\n",
      "The optimal accuracy based on labeled sequences is: 0.7647058823529411\n",
      "The optimal k_min is: 3\n",
      "The optimal k_max is: 3\n"
     ]
    },
    {
     "data": {
      "image/png": "[encoded data removed]",
      "text/plain": [
       "<Figure size 432x288 with 1 Axes>"
      ]
     },
     "metadata": {
      "needs_background": "light"
     },
     "output_type": "display_data"
    }
   ],
   "source": [
    "new_paths = [\"combined_Bat_Cat_flu.fa\"]\n",
    "k_min = 2\n",
    "k_max = 6\n",
    "num_class = 2\n",
    "kmer_table,output_df = get_kmer_table(new_paths, k_min, k_max)\n",
    "result = intuitive_semi_supervised(num_class,new_paths,\"labels_ten_percent.csv\",\"discretize\",k_min,k_max)\n",
    "PCA_show_semi_spectural_clustering(num_class,new_paths,\"labels_ten_percent.csv\",\"ten_percent\",\"discretize\",k_min,k_max)"
   ]
  },
  {
   "cell_type": "code",
   "execution_count": 7,
   "metadata": {},
   "outputs": [
    {
     "name": "stdout",
     "output_type": "stream",
     "text": [
      "The 10 percent accuracy based on all true label is: 0.3426966292134831 for ten percent labeled dataset.\n"
     ]
    }
   ],
   "source": [
    "bat_len = len(get_gene_sequences(\"bat_flu.fa\"))\n",
    "\n",
    "cat_len = len(get_gene_sequences(\"cat_flu.fa\"))\n",
    "\n",
    "zeros = [0]*bat_len\n",
    "labels1 = np.append(zeros, [1]*cat_len, axis=None)\n",
    "temp_accuracy = 1 - sum(abs(labels1 - result))/(bat_len+cat_len)\n",
    "print(\"The 10 percent accuracy based on all true label is: \" + str(temp_accuracy) + \" for ten percent labeled dataset.\")"
   ]
  },
  {
   "cell_type": "code",
   "execution_count": 8,
   "metadata": {},
   "outputs": [
    {
     "name": "stdout",
     "output_type": "stream",
     "text": [
      "178\n",
      "The optimal accuracy based on labeled sequences is: 0.7303370786516854\n",
      "The optimal k_min is: 2\n",
      "The optimal k_max is: 4\n",
      "178\n",
      "The optimal accuracy based on labeled sequences is: 0.7303370786516854\n",
      "The optimal k_min is: 2\n",
      "The optimal k_max is: 4\n",
      "178\n",
      "The optimal accuracy based on labeled sequences is: 0.7415730337078652\n",
      "The optimal k_min is: 3\n",
      "The optimal k_max is: 5\n",
      "178\n",
      "The optimal accuracy based on labeled sequences is: 0.7415730337078652\n",
      "The optimal k_min is: 3\n",
      "The optimal k_max is: 5\n"
     ]
    },
    {
     "data": {
      "image/png": "[encoded data removed]",
      "text/plain": [
       "<Figure size 432x288 with 1 Axes>"
      ]
     },
     "metadata": {
      "needs_background": "light"
     },
     "output_type": "display_data"
    }
   ],
   "source": [
    "new_paths = [\"combined_Bat_Cat_flu.fa\"]\n",
    "k_min = 2\n",
    "k_max = 6\n",
    "num_class = 2\n",
    "kmer_table,output_df = get_kmer_table(new_paths, k_min, k_max)\n",
    "result = intuitive_semi_supervised(num_class,new_paths,\"labels_fifty_percent.csv\",\"kmeans\",k_min,k_max)\n",
    "PCA_show_semi_spectural_clustering(num_class,new_paths,\"labels_fifty_percent.csv\",\"fifty_percent_kmeans\",\"kmeans\",k_min,k_max)\n",
    "\n",
    "result = intuitive_semi_supervised(num_class,new_paths,\"labels_fifty_percent.csv\",\"discretize\",k_min,k_max)\n",
    "PCA_show_semi_spectural_clustering(num_class,new_paths,\"labels_fifty_percent.csv\",\"fifty_percent_discretize\",\"discretize\",k_min,k_max)"
   ]
  },
  {
   "cell_type": "code",
   "execution_count": 9,
   "metadata": {},
   "outputs": [
    {
     "name": "stdout",
     "output_type": "stream",
     "text": [
      "The 50 percent accuracy based on all true label is: 0.8707865168539326 for fifty percent labeled dataset.\n"
     ]
    }
   ],
   "source": [
    "temp_accuracy = 1 - sum(abs(labels1 - result))/(bat_len+cat_len)\n",
    "temp_accuracy\n",
    "print(\"The 50 percent accuracy based on all true label is: \" + str(temp_accuracy) + \" for fifty percent labeled dataset.\")"
   ]
  },
  {
   "cell_type": "code",
   "execution_count": 10,
   "metadata": {},
   "outputs": [
    {
     "data": {
      "image/png": "[encoded data removed]",
      "text/plain": [
       "<Figure size 432x288 with 1 Axes>"
      ]
     },
     "metadata": {
      "needs_background": "light"
     },
     "output_type": "display_data"
    }
   ],
   "source": [
    "result,output_df = spectral_clustering(2, \"kmeans\", new_paths, 2, 6)\n",
    "PCA_show_spectural_clustering(2, \"kmeans\", new_paths, \"unsupervised\", 2, 6)"
   ]
  },
  {
   "cell_type": "code",
   "execution_count": 11,
   "metadata": {},
   "outputs": [
    {
     "name": "stdout",
     "output_type": "stream",
     "text": [
      "For unsupervised the accuracy based on all true label is: 0.7584269662921348 for unlabeled dataset.\n"
     ]
    }
   ],
   "source": [
    "temp_accuracy = 1 - sum(abs(labels1 - result))/(bat_len+cat_len)\n",
    "temp_accuracy\n",
    "print(\"For unsupervised the accuracy based on all true label is: \" + str(temp_accuracy) + \" for unlabeled dataset.\")"
   ]
  }
 ],
 "metadata": {
  "interpreter": {
   "hash": "e92538d6ae6a97f17e04bbb4e9b013398e3c18a0c65822e154983a17b15d638a"
  },
  "kernelspec": {
   "display_name": "Python 3.9.7 ('base')",
   "language": "python",
   "name": "python3"
  },
  "language_info": {
   "codemirror_mode": {
    "name": "ipython",
    "version": 3
   },
   "file_extension": ".py",
   "mimetype": "text/x-python",
   "name": "python",
   "nbconvert_exporter": "python",
   "pygments_lexer": "ipython3",
   "version": "3.9.7"
  }
 },
 "nbformat": 4,
 "nbformat_minor": 4
}
