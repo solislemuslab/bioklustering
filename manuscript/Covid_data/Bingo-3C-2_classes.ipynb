{
 "cells": [
  {
   "cell_type": "code",
   "execution_count": 12,
   "metadata": {},
   "outputs": [],
   "source": [
    "import pandas as pd\n",
    "true_label = pd.read_csv(\"./size_500_test.csv\")\n",
    "true_label = true_label[\"class\"]\n",
    "true_label = true_label.tolist()"
   ]
  },
  {
   "cell_type": "code",
   "execution_count": 18,
   "metadata": {},
   "outputs": [],
   "source": [
    "import numpy as np\n",
    "from scipy.stats import mode\n",
    "\n",
    "# Assuming you have an array of 500 numbers stored in the variable 'numbers'\n",
    "def get_accuracy(numbers):\n",
    "    chunk_size = 100\n",
    "    num_chunks = len(numbers) // chunk_size\n",
    "\n",
    "    modes = []\n",
    "\n",
    "    for i in range(num_chunks):\n",
    "        chunk = numbers[i * chunk_size: (i + 1) * chunk_size]\n",
    "        mode_result = mode(chunk)\n",
    "        mode_value = mode_result.mode[0]\n",
    "        mode_count = mode_result.count[0]\n",
    "        modes.append((mode_value, mode_count))\n",
    "\n",
    "    print(modes)"
   ]
  },
  {
   "cell_type": "code",
   "execution_count": 24,
   "metadata": {},
   "outputs": [],
   "source": [
    "import pandas as pd\n",
    "import numpy as np\n",
    "from sklearn.cluster import KMeans\n",
    "data = pd.read_csv('similarity-matrix-k=3.csv')\n",
    "similarity_matrix = data.drop(columns=['Unnamed: 0']) \n",
    "k = 2  # Number of clusters\n",
    "kmeans = KMeans(n_clusters=2, random_state=0)\n",
    "kmeans.fit(similarity_matrix)\n",
    "kmeans_labels = np.array(kmeans.labels_)\n",
    "# kmeans_labels"
   ]
  },
  {
   "cell_type": "code",
   "execution_count": 20,
   "metadata": {},
   "outputs": [],
   "source": [
    "from sklearn.mixture import GaussianMixture as GMM\n",
    "gmm = GMM(n_components=2, random_state=0).fit(similarity_matrix)\n",
    "gmm_labels = gmm.predict(similarity_matrix)\n",
    "# gmm_labels"
   ]
  },
  {
   "cell_type": "code",
   "execution_count": 21,
   "metadata": {},
   "outputs": [
    {
     "name": "stderr",
     "output_type": "stream",
     "text": [
      "/Users/yukewu/opt/anaconda3/lib/python3.8/site-packages/sklearn/cluster/_spectral.py:484: UserWarning: The spectral clustering API has changed. ``fit``now constructs an affinity matrix from data. To use a custom affinity matrix, set ``affinity=precomputed``.\n",
      "  warnings.warn(\"The spectral clustering API has changed. ``fit``\"\n"
     ]
    }
   ],
   "source": [
    "from sklearn.cluster import SpectralClustering\n",
    "spectral_clustering = SpectralClustering(n_clusters=2,random_state=0)\n",
    "spectral_clustering.fit(similarity_matrix)\n",
    "spectral_labels = spectral_clustering.labels_"
   ]
  },
  {
   "cell_type": "code",
   "execution_count": 27,
   "metadata": {},
   "outputs": [
    {
     "name": "stdout",
     "output_type": "stream",
     "text": [
      "[(1, 94), (0, 53), (0, 56), (1, 51), (0, 56)]\n"
     ]
    }
   ],
   "source": [
    "get_accuracy(kmeans_labels)"
   ]
  },
  {
   "cell_type": "code",
   "execution_count": 26,
   "metadata": {},
   "outputs": [
    {
     "name": "stdout",
     "output_type": "stream",
     "text": [
      "[(1, 95), (1, 52), (0, 62), (1, 51), (0, 62)]\n"
     ]
    }
   ],
   "source": [
    "get_accuracy(gmm_labels)"
   ]
  },
  {
   "cell_type": "code",
   "execution_count": 28,
   "metadata": {},
   "outputs": [
    {
     "name": "stdout",
     "output_type": "stream",
     "text": [
      "[(0, 97), (1, 53), (1, 69), (0, 54), (1, 60)]\n"
     ]
    }
   ],
   "source": [
    "get_accuracy(spectral_labels)"
   ]
  },
  {
   "cell_type": "code",
   "execution_count": 11,
   "metadata": {},
   "outputs": [
    {
     "ename": "NameError",
     "evalue": "name 'csv' is not defined",
     "output_type": "error",
     "traceback": [
      "\u001b[0;31m---------------------------------------------------------------------------\u001b[0m",
      "\u001b[0;31mNameError\u001b[0m                                 Traceback (most recent call last)",
      "\u001b[0;32m<ipython-input-11-ad1aa919904d>\u001b[0m in \u001b[0;36m<module>\u001b[0;34m\u001b[0m\n\u001b[1;32m      7\u001b[0m \u001b[0;31m# Write the data to the CSV file\u001b[0m\u001b[0;34m\u001b[0m\u001b[0;34m\u001b[0m\u001b[0;34m\u001b[0m\u001b[0m\n\u001b[1;32m      8\u001b[0m \u001b[0;32mwith\u001b[0m \u001b[0mopen\u001b[0m\u001b[0;34m(\u001b[0m\u001b[0mfilename\u001b[0m\u001b[0;34m,\u001b[0m \u001b[0mmode\u001b[0m\u001b[0;34m=\u001b[0m\u001b[0;34m'w'\u001b[0m\u001b[0;34m,\u001b[0m \u001b[0mnewline\u001b[0m\u001b[0;34m=\u001b[0m\u001b[0;34m''\u001b[0m\u001b[0;34m)\u001b[0m \u001b[0;32mas\u001b[0m \u001b[0mfile\u001b[0m\u001b[0;34m:\u001b[0m\u001b[0;34m\u001b[0m\u001b[0;34m\u001b[0m\u001b[0m\n\u001b[0;32m----> 9\u001b[0;31m     \u001b[0mwriter\u001b[0m \u001b[0;34m=\u001b[0m \u001b[0mcsv\u001b[0m\u001b[0;34m.\u001b[0m\u001b[0mwriter\u001b[0m\u001b[0;34m(\u001b[0m\u001b[0mfile\u001b[0m\u001b[0;34m)\u001b[0m\u001b[0;34m\u001b[0m\u001b[0;34m\u001b[0m\u001b[0m\n\u001b[0m\u001b[1;32m     10\u001b[0m \u001b[0;34m\u001b[0m\u001b[0m\n\u001b[1;32m     11\u001b[0m     \u001b[0;31m# Write the column names\u001b[0m\u001b[0;34m\u001b[0m\u001b[0;34m\u001b[0m\u001b[0;34m\u001b[0m\u001b[0m\n",
      "\u001b[0;31mNameError\u001b[0m: name 'csv' is not defined"
     ]
    }
   ],
   "source": [
    "column_names = ['true_label', 'pc1', 'pc2', 'gmm_result', 'kmeans_result', 'spectral_result']\n",
    "rows = zip(true_label, pc1, pc2, gmm_result, kmeans_result, spectral_result)\n",
    "\n",
    "# Specify the file name\n",
    "filename = 'bingo3c_result.csv'\n",
    "\n",
    "# Write the data to the CSV file\n",
    "with open(filename, mode='w', newline='') as file:\n",
    "    writer = csv.writer(file)\n",
    "    \n",
    "    # Write the column names\n",
    "    writer.writerow(column_names)\n",
    "    \n",
    "    # Write the data rows\n",
    "    writer.writerows(rows)"
   ]
  },
  {
   "cell_type": "code",
   "execution_count": null,
   "metadata": {},
   "outputs": [
    {
     "name": "stdout",
     "output_type": "stream",
     "text": [
      "281\n",
      "276\n",
      "278\n"
     ]
    }
   ],
   "source": [
    "verify = pd.read_csv('bingo3c_result.csv')\n",
    "print(sum(verify['true_label'] == verify['kmeans_result'])) #281/500 = 56.2%\n",
    "print(sum(verify['true_label'] == verify['gmm_result'])) #276/500 = 55.2%\n",
    "print(sum(verify['true_label'] == verify['spectral_result'])) #278/500 = 55.6%"
   ]
  }
 ],
 "metadata": {
  "kernelspec": {
   "display_name": "Python 3",
   "language": "python",
   "name": "python3"
  },
  "language_info": {
   "codemirror_mode": {
    "name": "ipython",
    "version": 3
   },
   "file_extension": ".py",
   "mimetype": "text/x-python",
   "name": "python",
   "nbconvert_exporter": "python",
   "pygments_lexer": "ipython3",
   "version": "3.8.5"
  },
  "orig_nbformat": 4
 },
 "nbformat": 4,
 "nbformat_minor": 2
}
