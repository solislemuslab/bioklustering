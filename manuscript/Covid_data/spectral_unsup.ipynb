{
 "cells": [
  {
   "cell_type": "code",
   "execution_count": 8,
   "metadata": {},
   "outputs": [],
   "source": [
    "import numpy as np\n",
    "import pandas as pd\n",
    "from Bio import SeqIO\n",
    "from Bio.SeqRecord import SeqRecord\n",
    "import matplotlib.pyplot as plt\n",
    "from sklearn import cluster, datasets, mixture\n",
    "from sklearn.neighbors import kneighbors_graph\n",
    "from sklearn.feature_extraction.text import CountVectorizer\n",
    "from sklearn import cluster, datasets, mixture\n",
    "from sklearn.neighbors import kneighbors_graph\n",
    "from sklearn.cluster import SpectralClustering\n",
    "from sklearn.decomposition import PCA\n",
    "from sklearn import preprocessing\n",
    "import copy"
   ]
  },
  {
   "cell_type": "code",
   "execution_count": 9,
   "metadata": {},
   "outputs": [],
   "source": [
    "import warnings\n",
    "warnings.filterwarnings('ignore')"
   ]
  },
  {
   "cell_type": "code",
   "execution_count": 10,
   "metadata": {},
   "outputs": [],
   "source": [
    "### \n",
    "### This includes code copied and pasted from the main methods used for the website in BioKlustering-Website/BioKlustering/mlmodel/parser/spectralClustering.py\n",
    "### These methods are copy-pasted instead of directly included due to difficulties importing Django classes for running locally without running the server\n",
    "###\n",
    "\n",
    "# parseFasta(data) credit to Luke\n",
    "def parseFasta(data):\n",
    "    d = {fasta.id : str(fasta.seq) for fasta in SeqIO.parse(data, \"fasta\")}\n",
    "    pd.DataFrame([d])\n",
    "    s = pd.Series(d, name='Sequence')\n",
    "    s.index.name = 'ID'\n",
    "    s.reset_index()\n",
    "    return pd.DataFrame(s)\n",
    "\n",
    "# this method credit to Zhiwen\n",
    "def get_kmer_table(paths,k_min,k_max):\n",
    "    genes,gene_len,output_df = read_fasta(paths)\n",
    "    count_vect = CountVectorizer(analyzer='char', ngram_range=(k_min, k_max))\n",
    "    X = count_vect.fit_transform(genes)\n",
    "    chars = count_vect.get_feature_names()\n",
    "    kmers = X.toarray()\n",
    "    kmer_freq = []\n",
    "    for i in range(len(genes)):\n",
    "        kmer_freq.append(kmers[i] / gene_len[i])\n",
    "    input = pd.DataFrame(kmer_freq, columns=chars)\n",
    "    return input, output_df\n",
    "\n",
    "# this method credit to Zhiwen\n",
    "def get_gene_sequences(filename):\n",
    "    genes = []\n",
    "    for record in SeqIO.parse(filename, \"fasta\"):\n",
    "        genes.append(str(record.seq))\n",
    "    return genes\n",
    "\n",
    "# this method credit to Zhiwen\n",
    "# genes: a list of gene sequences, which can directly be generated from get_gene_sequences().\n",
    "def get_gene_len(genes):\n",
    "    gene_len = []\n",
    "\n",
    "    for i in range(len(genes)):\n",
    "        gene_len.append(len(genes[i]))\n",
    "    return gene_len\n",
    "\n",
    "# this method credit to Zhiwen\n",
    "def read_fasta(paths):\n",
    "    all_genes = []\n",
    "    all_gene_len = []\n",
    "    output_df = pd.DataFrame()\n",
    "    \n",
    "    for path in paths:\n",
    "        virus = parseFasta(path)\n",
    "        output_df = pd.concat([output_df, virus])\n",
    "        virus = virus.drop_duplicates(keep=\"last\")\n",
    "        genes_seq = get_gene_sequences(path)\n",
    "        gene_len = get_gene_len(genes_seq)\n",
    "        all_genes = all_genes + genes_seq\n",
    "        all_gene_len = all_gene_len + gene_len\n",
    "    return all_genes,all_gene_len,output_df\n",
    "\n",
    "# this method takes predits the input and make prediction using spectral clustering\n",
    "# paths: a list of strings. contains file paths\n",
    "# k_min: int. min of kmer\n",
    "# k_max: int. max of kmer\n",
    "# num_cluster: int. number of clusters\n",
    "# assignLabels: a string. the way to assign label at the final stage of spectral clustering. Can be \"kmeans\" or \"discretize\"\n",
    "def spectral_clustering(num_cluster, assignLabels, paths, k_min = 2, k_max = 3, seed = 0):\n",
    "    kmer_table, output_df = get_kmer_table(paths, k_min, k_max)\n",
    "    # if len(kmer_table) < num_cluster:\n",
    "    #     raise ValueError()\n",
    "    spectral_clustering = SpectralClustering(n_clusters=num_cluster, assign_labels=assignLabels, random_state=0)\n",
    "    labels = spectral_clustering.fit_predict(kmer_table)\n",
    "    output_df.insert(0, \"Labels\", labels)\n",
    "    return labels,output_df"
   ]
  },
  {
   "cell_type": "code",
   "execution_count": 11,
   "metadata": {},
   "outputs": [],
   "source": [
    "fasta = [\"size_500_test.fasta\"]\n",
    "k_min = 3\n",
    "k_max = 3\n",
    "cNum = 5\n",
    "predictions1, x = spectral_clustering(cNum, \"kmeans\", fasta, k_min, k_max)"
   ]
  },
  {
   "cell_type": "code",
   "execution_count": 12,
   "metadata": {},
   "outputs": [
    {
     "name": "stdout",
     "output_type": "stream",
     "text": [
      "{'Matching': {0: 3, 1: 0, 2: 1, 3: 2, 4: 4}, 'Accuracy': 0.524}\n"
     ]
    }
   ],
   "source": [
    "import itertools\n",
    "\n",
    "# Define the actual labels\n",
    "actual_labels = [0] * 100 + [1] * 100 + [2] * 100 + [3] * 100 + [4] * 100\n",
    "\n",
    "def get_accuracy(predicted_labels, actual_labels):\n",
    "    # Generate all possible permutations of label mappings\n",
    "    possible_mappings = list(itertools.permutations(set(predicted_labels)))\n",
    "\n",
    "    # Function to calculate accuracy given a label mapping\n",
    "    def calculate_accuracy(actual_labels, predicted_labels, mapping):\n",
    "        mapped_labels = [mapping[label] for label in predicted_labels]\n",
    "        correct_predictions = sum(1 for actual, predicted in zip(actual_labels, mapped_labels) if actual == predicted)\n",
    "        return correct_predictions / len(actual_labels)\n",
    "\n",
    "    # Find the mapping with the highest accuracy\n",
    "    best_mapping = None\n",
    "    best_accuracy = 0.0\n",
    "\n",
    "    for mapping in possible_mappings:\n",
    "        accuracy = calculate_accuracy(actual_labels, predicted_labels, mapping)\n",
    "        if accuracy > best_accuracy:\n",
    "            best_mapping = mapping\n",
    "            best_accuracy = accuracy\n",
    "\n",
    "    # Create a dictionary containing the best matching and accuracy\n",
    "    matching_results = {\n",
    "        'Matching': dict(zip(set(predicted_labels), best_mapping)),\n",
    "        'Accuracy': best_accuracy\n",
    "    }\n",
    "\n",
    "    # Print the results\n",
    "    return matching_results\n",
    "\n",
    "best_mapping = get_accuracy(predictions1, actual_labels)\n",
    "print(best_mapping)"
   ]
  },
  {
   "cell_type": "code",
   "execution_count": 13,
   "metadata": {},
   "outputs": [],
   "source": [
    "predictions1 = [best_mapping['Matching'][label] for label in predictions1]"
   ]
  },
  {
   "cell_type": "code",
   "execution_count": 14,
   "metadata": {},
   "outputs": [],
   "source": [
    "actual_label = pd.read_csv(\"./size_500_test.csv\")"
   ]
  },
  {
   "cell_type": "code",
   "execution_count": 15,
   "metadata": {},
   "outputs": [],
   "source": [
    "number = list(range(1, len(predictions1)+1))\n",
    "df = pd.DataFrame(list(zip(number, predictions1)), \n",
    "               columns =['Number', 'Labels']) \n",
    "df.to_csv('spectral_unsup_predictions.csv',index = False)"
   ]
  },
  {
   "cell_type": "code",
   "execution_count": 16,
   "metadata": {},
   "outputs": [],
   "source": [
    "x = get_kmer_table(fasta, k_min, k_max)[0]"
   ]
  },
  {
   "cell_type": "code",
   "execution_count": 17,
   "metadata": {},
   "outputs": [],
   "source": [
    "pca = PCA(n_components=2)\n",
    "principalComponents = pca.fit_transform(x)\n",
    "principalDf = pd.DataFrame(data = principalComponents,columns = ['principal component 1', 'principal component 2'])\n",
    "finalDf = pd.concat([principalDf, pd.Series(predictions1)], axis = 1)\n",
    "finalDf = pd.concat([finalDf, pd.Series(actual_label['class'])], axis = 1)\n",
    "finalDf.columns = ['principal Component 1', 'Principal Component 2','Predicted Label', 'Actual Label']\n",
    "finalDf.to_csv('spectral_unsup_pca.csv',index = False)"
   ]
  },
  {
   "cell_type": "code",
   "execution_count": 18,
   "metadata": {},
   "outputs": [
    {
     "data": {
      "text/plain": [
       "0.524"
      ]
     },
     "execution_count": 18,
     "metadata": {},
     "output_type": "execute_result"
    }
   ],
   "source": [
    "sum(finalDf['Predicted Label'] == finalDf['Actual Label'])/len(finalDf)"
   ]
  }
 ],
 "metadata": {
  "kernelspec": {
   "display_name": "base",
   "language": "python",
   "name": "python3"
  },
  "language_info": {
   "codemirror_mode": {
    "name": "ipython",
    "version": 3
   },
   "file_extension": ".py",
   "mimetype": "text/x-python",
   "name": "python",
   "nbconvert_exporter": "python",
   "pygments_lexer": "ipython3",
   "version": "3.8.5"
  },
  "orig_nbformat": 4
 },
 "nbformat": 4,
 "nbformat_minor": 2
}
