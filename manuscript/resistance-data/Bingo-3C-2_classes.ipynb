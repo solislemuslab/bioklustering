{
 "cells": [
  {
   "cell_type": "code",
   "execution_count": 87,
   "metadata": {},
   "outputs": [],
   "source": [
    "import pandas as pd\n",
    "true_label = pd.read_csv(\"./responses-carb.csv\")\n",
    "true_label = true_label[\"class\"]\n",
    "true_label = true_label.tolist()"
   ]
  },
  {
   "cell_type": "code",
   "execution_count": 88,
   "metadata": {},
   "outputs": [],
   "source": [
    "import numpy as np\n",
    "from scipy.stats import mode\n",
    "\n",
    "# Assuming you have an array of 500 numbers stored in the variable 'numbers'\n",
    "def get_accuracy(numbers):\n",
    "    chunk_size = 100\n",
    "    num_chunks = len(numbers) // chunk_size\n",
    "\n",
    "    modes = []\n",
    "\n",
    "    for i in range(num_chunks):\n",
    "        chunk = numbers[i * chunk_size: (i + 1) * chunk_size]\n",
    "        mode_result = mode(chunk)\n",
    "        mode_value = mode_result.mode\n",
    "        mode_count = mode_result.count\n",
    "        modes.append((mode_value, mode_count))\n",
    "\n",
    "    print(modes)"
   ]
  },
  {
   "cell_type": "code",
   "execution_count": 89,
   "metadata": {},
   "outputs": [
    {
     "name": "stderr",
     "output_type": "stream",
     "text": [
      "/Users/samoz/Documents/masters/research/yuke-bioklustering/bioklustering/.conda/lib/python3.10/site-packages/sklearn/cluster/_kmeans.py:1412: FutureWarning: The default value of `n_init` will change from 10 to 'auto' in 1.4. Set the value of `n_init` explicitly to suppress the warning\n",
      "  super()._check_params_vs_input(X, default_n_init=10)\n",
      "/Users/samoz/Documents/masters/research/yuke-bioklustering/bioklustering/.conda/lib/python3.10/site-packages/sklearn/base.py:1151: ConvergenceWarning: Number of distinct clusters (1) found smaller than n_clusters (2). Possibly due to duplicate points in X.\n",
      "  return fit_method(estimator, *args, **kwargs)\n"
     ]
    }
   ],
   "source": [
    "import pandas as pd\n",
    "import numpy as np\n",
    "from sklearn.cluster import KMeans\n",
    "data = pd.read_csv('similarity-matrix-k=3.csv')\n",
    "similarity_matrix = data.drop(columns=['Unnamed: 0']) \n",
    "k = 2  # Number of clusters\n",
    "kmeans = KMeans(n_clusters=2, random_state=0)\n",
    "kmeans.fit(similarity_matrix)\n",
    "kmeans_labels = np.array(kmeans.labels_)\n",
    "# kmeans_labels"
   ]
  },
  {
   "cell_type": "code",
   "execution_count": 90,
   "metadata": {},
   "outputs": [
    {
     "name": "stderr",
     "output_type": "stream",
     "text": [
      "/Users/samoz/Documents/masters/research/yuke-bioklustering/bioklustering/.conda/lib/python3.10/site-packages/sklearn/base.py:1151: ConvergenceWarning: Number of distinct clusters (1) found smaller than n_clusters (2). Possibly due to duplicate points in X.\n",
      "  return fit_method(estimator, *args, **kwargs)\n"
     ]
    }
   ],
   "source": [
    "from sklearn.mixture import GaussianMixture as GMM\n",
    "gmm = GMM(n_components=2, random_state=0).fit(similarity_matrix)\n",
    "gmm_labels = gmm.predict(similarity_matrix)\n",
    "# gmm_labels"
   ]
  },
  {
   "cell_type": "code",
   "execution_count": 91,
   "metadata": {},
   "outputs": [
    {
     "name": "stderr",
     "output_type": "stream",
     "text": [
      "/Users/samoz/Documents/masters/research/yuke-bioklustering/bioklustering/.conda/lib/python3.10/site-packages/sklearn/cluster/_spectral.py:688: UserWarning: The spectral clustering API has changed. ``fit``now constructs an affinity matrix from data. To use a custom affinity matrix, set ``affinity=precomputed``.\n",
      "  warnings.warn(\n"
     ]
    },
    {
     "data": {
      "text/plain": [
       "array([1, 0, 1, 0, 1, 1, 1, 1, 1, 1, 1, 1, 1, 1, 1, 1, 0, 1, 0, 1, 1, 0,\n",
       "       0, 1, 1, 0, 1, 0, 0, 0, 0, 1, 0, 1, 0, 0, 1, 1, 1, 1, 0, 0, 0, 0,\n",
       "       1, 1, 1, 0, 0, 0, 1, 0, 1, 0, 1, 1, 1, 0, 0, 0, 0, 0, 1, 0, 1, 0,\n",
       "       1, 0, 1, 0, 1, 1, 1, 0, 1, 1, 0, 1, 1, 0, 0, 1, 0, 1, 1, 0, 0, 0,\n",
       "       1, 1, 0, 0, 0, 0, 0, 0, 1, 0, 0, 0, 1, 0, 1, 1, 1, 0, 0, 1, 0, 1,\n",
       "       0, 1, 1, 1, 1, 0, 1, 1, 1, 1, 1, 1], dtype=int32)"
      ]
     },
     "execution_count": 91,
     "metadata": {},
     "output_type": "execute_result"
    }
   ],
   "source": [
    "from sklearn.cluster import SpectralClustering\n",
    "spectral_clustering = SpectralClustering(n_clusters=2,random_state=0)\n",
    "spectral_clustering.fit(similarity_matrix)\n",
    "spectral_labels = spectral_clustering.labels_\n",
    "spectral_labels"
   ]
  },
  {
   "cell_type": "code",
   "execution_count": 92,
   "metadata": {},
   "outputs": [
    {
     "name": "stdout",
     "output_type": "stream",
     "text": [
      "[(0, 100)]\n"
     ]
    }
   ],
   "source": [
    "get_accuracy(kmeans_labels)"
   ]
  },
  {
   "cell_type": "code",
   "execution_count": 93,
   "metadata": {},
   "outputs": [
    {
     "name": "stdout",
     "output_type": "stream",
     "text": [
      "[(0, 100)]\n"
     ]
    }
   ],
   "source": [
    "get_accuracy(gmm_labels)"
   ]
  },
  {
   "cell_type": "code",
   "execution_count": 94,
   "metadata": {},
   "outputs": [
    {
     "name": "stdout",
     "output_type": "stream",
     "text": [
      "[(1, 51)]\n"
     ]
    }
   ],
   "source": [
    "get_accuracy(spectral_labels)"
   ]
  },
  {
   "cell_type": "code",
   "execution_count": 95,
   "metadata": {},
   "outputs": [
    {
     "name": "stderr",
     "output_type": "stream",
     "text": [
      "/Users/samoz/Documents/masters/research/yuke-bioklustering/bioklustering/.conda/lib/python3.10/site-packages/sklearn/decomposition/_pca.py:543: RuntimeWarning: invalid value encountered in divide\n",
      "  explained_variance_ratio_ = explained_variance_ / total_var\n"
     ]
    }
   ],
   "source": [
    "import numpy as np\n",
    "from sklearn.decomposition import PCA\n",
    "import matplotlib.pyplot as plt\n",
    "import csv\n",
    "\n",
    "# Assuming you have a similarity matrix stored in the variable 'similarity_matrix'\n",
    "# Create an instance of PCA\n",
    "pca = PCA(n_components=3) \n",
    "\n",
    "# Apply PCA on the similarity matrix\n",
    "principal_components = pca.fit_transform(similarity_matrix)\n",
    "\n",
    "# Get the PC1 and PC2 values\n",
    "pc1 = principal_components[:, 0]\n",
    "pc2 = principal_components[:, 1]\n",
    "pc3 = principal_components[:, 2]\n",
    "\n",
    "column_names = ['true_label', 'pc1', 'pc2', 'gmm_result', 'kmeans_result', 'spectral_result']\n",
    "rows = zip(true_label, pc1, pc2, gmm_labels, kmeans_labels, spectral_labels)\n",
    "\n",
    "# Specify the file name\n",
    "filename = 'bingo3c_result.csv'\n",
    "\n",
    "# Write the data to the CSV file\n",
    "with open(filename, mode='w', newline='') as file:\n",
    "    writer = csv.writer(file)\n",
    "    \n",
    "    # Write the column names\n",
    "    writer.writerow(column_names)\n",
    "    \n",
    "    # Write the data rows\n",
    "    writer.writerows(rows)"
   ]
  },
  {
   "cell_type": "code",
   "execution_count": 96,
   "metadata": {},
   "outputs": [
    {
     "name": "stdout",
     "output_type": "stream",
     "text": [
      "0.7950819672131147\n",
      "0.7950819672131147\n",
      "0.3770491803278688\n"
     ]
    }
   ],
   "source": [
    "verify = pd.read_csv('bingo3c_result.csv')\n",
    "print(sum(verify['true_label'] == verify['kmeans_result'])/len(verify['true_label']))\n",
    "print(sum(verify['true_label'] == verify['gmm_result'])/len(verify['true_label']))\n",
    "print(sum(verify['true_label'] == verify['spectral_result'])/len(verify['true_label']))\n",
    "\n",
    "us_kmeans = pd.read_csv('kmeans_unsup_predictions.csv')\n",
    "#print(sum(verify['kmeans_result'] == us['Labels'])/len(verify['kmeans_result']))\n",
    "\n",
    "us_gmm = pd.read_csv('gmm_unsup_predictions.csv')\n",
    "#print(sum(verify['gmm_result'] == us_gmm['Labels'])/len(verify['gmm_result']))\n",
    "\n",
    "us_spec = pd.read_csv('spectral_unsup_predictions.csv')\n",
    "#print(sum(verify['spectral_result'] == us_spec['Labels'])/len(verify['spectral_result']))"
   ]
  },
  {
   "cell_type": "code",
   "execution_count": 97,
   "metadata": {},
   "outputs": [],
   "source": [
    "from sklearn.metrics import precision_score, recall_score, f1_score"
   ]
  },
  {
   "cell_type": "code",
   "execution_count": 110,
   "metadata": {},
   "outputs": [
    {
     "name": "stdout",
     "output_type": "stream",
     "text": [
      "------K-means-----------\n",
      "& BioKlustering & Bingo-3C \\\\\\hline\n",
      "False positive rate & 0.7767857142857143 & 1.0\\\\\n",
      "False negative rate & 0.0 & 0.20491803278688525\n",
      "------GMM---------\n",
      "& BioKlustering & Bingo-3C \\\\\\hline\n",
      "False positive rate & 0.0 & 1.0\\\\\n",
      "False negative rate & 0.18487394957983194 & 0.20491803278688525\n",
      "-------Spectral---------\n",
      "& BioKlustering & Bingo-3C \\\\\\hline\n",
      "False positive rate & 0.782608695652174 & 0.8805970149253731\\\\\n",
      "False negative rate & 0.19736842105263153 & 0.3090909090909091\n"
     ]
    },
    {
     "name": "stderr",
     "output_type": "stream",
     "text": [
      "/Users/samoz/Documents/masters/research/yuke-bioklustering/bioklustering/.conda/lib/python3.10/site-packages/sklearn/metrics/_classification.py:1469: UndefinedMetricWarning: Precision is ill-defined and being set to 0.0 due to no predicted samples. Use `zero_division` parameter to control this behavior.\n",
      "  _warn_prf(average, modifier, msg_start, len(result))\n",
      "/Users/samoz/Documents/masters/research/yuke-bioklustering/bioklustering/.conda/lib/python3.10/site-packages/sklearn/metrics/_classification.py:1469: UndefinedMetricWarning: Precision is ill-defined and being set to 0.0 due to no predicted samples. Use `zero_division` parameter to control this behavior.\n",
      "  _warn_prf(average, modifier, msg_start, len(result))\n"
     ]
    }
   ],
   "source": [
    "print(\"------K-means-----------\")\n",
    "print(\"& BioKlustering & Bingo-3C \\\\\\\\\\\\hline\")\n",
    "print(F\"False positive rate & {1 - precision_score(verify['true_label'], us_kmeans['Labels'],pos_label=1)} & {1 - precision_score(verify['true_label'], verify['kmeans_result'],pos_label=1)}\\\\\\\\\")\n",
    "print(F\"False negative rate & {1 - precision_score(verify['true_label'], us_kmeans['Labels'],pos_label=0)} & {1 - precision_score(verify['true_label'], verify['kmeans_result'],pos_label=0)}\")\n",
    "\n",
    "print(\"------GMM---------\")\n",
    "print(\"& BioKlustering & Bingo-3C \\\\\\\\\\\\hline\")\n",
    "print(F\"False positive rate & {1 - precision_score(verify['true_label'], us_gmm['Labels'],pos_label=1)} & {1 - precision_score(verify['true_label'], verify['gmm_result'],pos_label=1)}\\\\\\\\\")\n",
    "print(F\"False negative rate & {1 - precision_score(verify['true_label'], us_gmm['Labels'],pos_label=0)} & {1 - precision_score(verify['true_label'], verify['gmm_result'],pos_label=0)}\")\n",
    "\n",
    "\n",
    "print(\"-------Spectral---------\")\n",
    "print(\"& BioKlustering & Bingo-3C \\\\\\\\\\\\hline\")\n",
    "print(F\"False positive rate & {1 - precision_score(verify['true_label'], us_spec['Labels'],pos_label=1)} & {1 - precision_score(verify['true_label'], verify['spectral_result'],pos_label=1)}\\\\\\\\\")\n",
    "print(F\"False negative rate & {1 - precision_score(verify['true_label'], us_spec['Labels'],pos_label=0)} & {1 - precision_score(verify['true_label'], verify['spectral_result'],pos_label=0)}\")"
   ]
  },
  {
   "cell_type": "markdown",
   "metadata": {},
   "source": [
    "# SEMI-SUPERVISED"
   ]
  },
  {
   "cell_type": "code",
   "execution_count": 108,
   "metadata": {},
   "outputs": [
    {
     "name": "stdout",
     "output_type": "stream",
     "text": [
      "SEMISUPERVISED\n"
     ]
    }
   ],
   "source": [
    "us_kmeans = pd.read_csv('kmeans_semisup_predictions.csv')\n",
    "us_gmm = pd.read_csv('gmm_semisup_predictions.csv')\n",
    "us_spec = pd.read_csv('spectral_semisup_predictions.csv')\n",
    "\n",
    "print(\"SEMISUPERVISED\")"
   ]
  },
  {
   "cell_type": "code",
   "execution_count": 109,
   "metadata": {},
   "outputs": [
    {
     "name": "stdout",
     "output_type": "stream",
     "text": [
      "------K-means-----------\n",
      "& BioKlustering & Bingo-3C \\\\\\hline\n",
      "False positive rate & 0.22321428571428573 & 0.0\\\\\n",
      "False negative rate & 1.0 & 0.7950819672131147\n",
      "------GMM---------\n",
      "& BioKlustering & Bingo-3C \\\\\\hline\n",
      "False positive rate & 1.0 & 0.0\\\\\n",
      "False negative rate & 0.8151260504201681 & 0.7950819672131147\n",
      "-------Spectral---------\n",
      "& BioKlustering & Bingo-3C \\\\\\hline\n",
      "False positive rate & 0.21739130434782608 & 0.11940298507462686\\\\\n",
      "False negative rate & 0.8026315789473685 & 0.6909090909090909\n"
     ]
    },
    {
     "name": "stderr",
     "output_type": "stream",
     "text": [
      "/Users/samoz/Documents/masters/research/yuke-bioklustering/bioklustering/.conda/lib/python3.10/site-packages/sklearn/metrics/_classification.py:1469: UndefinedMetricWarning: Precision is ill-defined and being set to 0.0 due to no predicted samples. Use `zero_division` parameter to control this behavior.\n",
      "  _warn_prf(average, modifier, msg_start, len(result))\n",
      "/Users/samoz/Documents/masters/research/yuke-bioklustering/bioklustering/.conda/lib/python3.10/site-packages/sklearn/metrics/_classification.py:1469: UndefinedMetricWarning: Precision is ill-defined and being set to 0.0 due to no predicted samples. Use `zero_division` parameter to control this behavior.\n",
      "  _warn_prf(average, modifier, msg_start, len(result))\n"
     ]
    }
   ],
   "source": [
    "print(\"------K-means-----------\")\n",
    "print(\"& BioKlustering & Bingo-3C \\\\\\\\\\\\hline\")\n",
    "print(F\"False positive rate & {precision_score(verify['true_label'], us_kmeans['Labels'],pos_label=1)} & {precision_score(verify['true_label'], verify['kmeans_result'],pos_label=1)}\\\\\\\\\")\n",
    "print(F\"False negative rate & {precision_score(verify['true_label'], us_kmeans['Labels'],pos_label=0)} & {precision_score(verify['true_label'], verify['kmeans_result'],pos_label=0)}\")\n",
    "\n",
    "print(\"------GMM---------\")\n",
    "print(\"& BioKlustering & Bingo-3C \\\\\\\\\\\\hline\")\n",
    "print(F\"False positive rate & {precision_score(verify['true_label'], us_gmm['Labels'],pos_label=1)} & {precision_score(verify['true_label'], verify['gmm_result'],pos_label=1)}\\\\\\\\\")\n",
    "print(F\"False negative rate & {precision_score(verify['true_label'], us_gmm['Labels'],pos_label=0)} & {precision_score(verify['true_label'], verify['gmm_result'],pos_label=0)}\")\n",
    "\n",
    "\n",
    "print(\"-------Spectral---------\")\n",
    "print(\"& BioKlustering & Bingo-3C \\\\\\\\\\\\hline\")\n",
    "print(F\"False positive rate & {precision_score(verify['true_label'], us_spec['Labels'],pos_label=1)} & {precision_score(verify['true_label'], verify['spectral_result'],pos_label=1)}\\\\\\\\\")\n",
    "print(F\"False negative rate & {precision_score(verify['true_label'], us_spec['Labels'],pos_label=0)} & {precision_score(verify['true_label'], verify['spectral_result'],pos_label=0)}\")"
   ]
  }
 ],
 "metadata": {
  "kernelspec": {
   "display_name": "Python 3",
   "language": "python",
   "name": "python3"
  },
  "language_info": {
   "codemirror_mode": {
    "name": "ipython",
    "version": 3
   },
   "file_extension": ".py",
   "mimetype": "text/x-python",
   "name": "python",
   "nbconvert_exporter": "python",
   "pygments_lexer": "ipython3",
   "version": "3.10.12"
  },
  "orig_nbformat": 4
 },
 "nbformat": 4,
 "nbformat_minor": 2
}
